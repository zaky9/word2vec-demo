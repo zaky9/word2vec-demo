{
 "cells": [
  {
   "cell_type": "code",
   "execution_count": 4,
   "id": "e96b118d",
   "metadata": {},
   "outputs": [],
   "source": [
    "# !wget -nc https://lazyprogrammer.me/course_files/nlp/GoogleNews-vectors-negative300.bin.gz"
   ]
  },
  {
   "cell_type": "code",
   "execution_count": 17,
   "id": "8129246b",
   "metadata": {},
   "outputs": [
    {
     "name": "stderr",
     "output_type": "stream",
     "text": [
      "gunzip: #unzip: The system cannot find the file specified. \n",
      "gunzip: file: The system cannot find the file specified. \n"
     ]
    }
   ],
   "source": [
    "!gunzip C:/Users/ZAKY-PC/Jupyter_proj/GoogleNews-vectors-negative300.bin.gz #unzip file"
   ]
  },
  {
   "cell_type": "code",
   "execution_count": 18,
   "id": "b7fc8c77",
   "metadata": {},
   "outputs": [],
   "source": [
    "from gensim.models import KeyedVectors\n",
    "\n",
    "word_vectors = KeyedVectors.load_word2vec_format( # passing pre-trained word embeddings\n",
    "'C:/Users/ZAKY-PC/Jupyter_proj/GoogleNews-vectors-negative300.bin',\n",
    "    binary=True\n",
    ")"
   ]
  },
  {
   "cell_type": "code",
   "execution_count": 19,
   "id": "88fb4864",
   "metadata": {},
   "outputs": [],
   "source": [
    "def find_analogies(w1,w2,w3):\n",
    "    # w1 - w2 = ? -- w3\n",
    "    # eg: king - man = ? - woman\n",
    "    #        ? == +king +woman -man\n",
    "    r = word_vectors.most_similar(positive=[w1,w3], negative=[w2])\n",
    "    print(\"%s  - %s = %s - %s\" %(w1,w2,r[0][0], w3))"
   ]
  },
  {
   "cell_type": "code",
   "execution_count": 20,
   "id": "92ca29df",
   "metadata": {},
   "outputs": [
    {
     "name": "stdout",
     "output_type": "stream",
     "text": [
      "king  - man = queen - woman\n"
     ]
    }
   ],
   "source": [
    "find_analogies('king', 'man', 'woman')"
   ]
  },
  {
   "cell_type": "code",
   "execution_count": 21,
   "id": "69a4f402",
   "metadata": {},
   "outputs": [
    {
     "name": "stdout",
     "output_type": "stream",
     "text": [
      "france  - paris = england - london\n"
     ]
    }
   ],
   "source": [
    "find_analogies('france','paris','london')"
   ]
  },
  {
   "cell_type": "code",
   "execution_count": 22,
   "id": "c9da762e",
   "metadata": {},
   "outputs": [
    {
     "name": "stdout",
     "output_type": "stream",
     "text": [
      "france  - paris = italy - rome\n"
     ]
    }
   ],
   "source": [
    "find_analogies('france','paris','rome')"
   ]
  },
  {
   "cell_type": "code",
   "execution_count": 23,
   "id": "93fde9a3",
   "metadata": {},
   "outputs": [],
   "source": [
    "def nearest_neighbors(w):\n",
    "    r = word_vectors.most_similar(positive=[w])\n",
    "    print(\"neigbors of: %s\" %w)\n",
    "    for word, score in r:\n",
    "        print(\"\\t%s\" % word)"
   ]
  },
  {
   "cell_type": "code",
   "execution_count": 24,
   "id": "0b922a66",
   "metadata": {},
   "outputs": [
    {
     "name": "stdout",
     "output_type": "stream",
     "text": [
      "neigbors of: king\n",
      "\tkings\n",
      "\tqueen\n",
      "\tmonarch\n",
      "\tcrown_prince\n",
      "\tprince\n",
      "\tsultan\n",
      "\truler\n",
      "\tprinces\n",
      "\tPrince_Paras\n",
      "\tthrone\n"
     ]
    }
   ],
   "source": [
    "nearest_neighbors('king')"
   ]
  },
  {
   "cell_type": "code",
   "execution_count": 25,
   "id": "99368ad1",
   "metadata": {},
   "outputs": [
    {
     "name": "stdout",
     "output_type": "stream",
     "text": [
      "neigbors of: france\n",
      "\tspain\n",
      "\tfrench\n",
      "\tgermany\n",
      "\teurope\n",
      "\titaly\n",
      "\tengland\n",
      "\teuropean\n",
      "\tbelgium\n",
      "\tusa\n",
      "\tserbia\n"
     ]
    }
   ],
   "source": [
    "nearest_neighbors('france')"
   ]
  },
  {
   "cell_type": "code",
   "execution_count": 26,
   "id": "74a06e63",
   "metadata": {},
   "outputs": [
    {
     "name": "stdout",
     "output_type": "stream",
     "text": [
      "neigbors of: father\n",
      "\tson\n",
      "\tuncle\n",
      "\tbrother\n",
      "\tgrandfather\n",
      "\tdad\n",
      "\tmother\n",
      "\tnephew\n",
      "\tstepfather\n",
      "\teldest_son\n",
      "\tgrandson\n"
     ]
    }
   ],
   "source": [
    "nearest_neighbors('father')"
   ]
  },
  {
   "cell_type": "code",
   "execution_count": null,
   "id": "097e27d4",
   "metadata": {},
   "outputs": [],
   "source": []
  }
 ],
 "metadata": {
  "kernelspec": {
   "display_name": "Python 3",
   "language": "python",
   "name": "python3"
  },
  "language_info": {
   "codemirror_mode": {
    "name": "ipython",
    "version": 3
   },
   "file_extension": ".py",
   "mimetype": "text/x-python",
   "name": "python",
   "nbconvert_exporter": "python",
   "pygments_lexer": "ipython3",
   "version": "3.8.5"
  }
 },
 "nbformat": 4,
 "nbformat_minor": 5
}
